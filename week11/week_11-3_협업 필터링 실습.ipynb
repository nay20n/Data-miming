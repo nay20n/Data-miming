{
 "cells": [
  {
   "cell_type": "markdown",
   "metadata": {},
   "source": [
    "# **Week 11: 협업 필터링 (Surprise 라이브러리)**"
   ]
  },
  {
   "cell_type": "markdown",
   "metadata": {},
   "source": [
    "* Surprise 라이브러리는 추천 시스템을 쉽게 구현할 수 있도록 도와주는 Python 라이브러리로 주로 협업 필터링 기반의 추천 알고리즘을 지원\n",
    "* 다양한 알고리즘과 평가 방법을 제공하며 추천 시스템 학습 및 실험에 매우 유용 \n",
    "* 아래는 Surprise 라이브러리의 주요 기능과 사용 방법에 대한 구체적인 설명을 제공함\n",
    "\n",
    "Surprise 라이브러리 공식 홈페이지: https://surpriselib.com/"
   ]
  },
  {
   "cell_type": "code",
   "execution_count": 27,
   "metadata": {},
   "outputs": [
    {
     "name": "stdout",
     "output_type": "stream",
     "text": [
      "Requirement already satisfied: scikit-surprise in c:\\users\\userk\\anaconda3\\lib\\site-packages (1.1.4)\n",
      "Requirement already satisfied: joblib>=1.2.0 in c:\\users\\userk\\anaconda3\\lib\\site-packages (from scikit-surprise) (1.4.2)\n",
      "Requirement already satisfied: numpy>=1.19.5 in c:\\users\\userk\\anaconda3\\lib\\site-packages (from scikit-surprise) (1.26.4)\n",
      "Requirement already satisfied: scipy>=1.6.0 in c:\\users\\userk\\anaconda3\\lib\\site-packages (from scikit-surprise) (1.13.1)\n",
      "Note: you may need to restart the kernel to use updated packages.\n"
     ]
    }
   ],
   "source": [
    "%pip install scikit-surprise"
   ]
  },
  {
   "cell_type": "markdown",
   "metadata": {},
   "source": [
    "### **1. Surprise의 주요 기능**"
   ]
  },
  {
   "cell_type": "markdown",
   "metadata": {},
   "source": [
    "* **데이터셋 관리**: Surprise는 사용자-아이템 평점 데이터를 손쉽게 로드하고 관리할 수 기능 제공하며, Dataset과 Reader 클래스를 사용하여 다양한 형식의 데이터를 쉽게 호출 가능\n",
    "* **추천 알고리즘**: KNN 기반 협업 필터링, 행렬 분해 기반의 SVD, NMF 등 여러 종류의 추천 알고리즘을 지원\n",
    "* **유사도 측정**: 사용자 또는 아이템 간의 유사도를 계산할 수 있도록 코사인 유사도, 피어슨 상관계수 등의 유사도 측정 방법을 지원\n",
    "* **모델 평가**: accuracy 모듈을 통해 MAE, RMSE와 같은 평가지표를 간단히 계산할 수 있으며 교차 검증 기능도 제공"
   ]
  },
  {
   "cell_type": "markdown",
   "metadata": {},
   "source": [
    "### **2. Surprise 주요 클래스와 사용 방법**"
   ]
  },
  {
   "cell_type": "markdown",
   "metadata": {},
   "source": [
    "**(1)  데이터 준비 (Dataset과 Reader)**\n",
    " * Reader: 데이터 파일의 형식을 정의하는 클래스\n",
    "    * 평점의 범위를 설정할 수 있으며 rating_scale 파라미터를 통해 사용자-아이템 평점 데이터의 범위를 지정\n",
    " * Dataset: 데이터를 로드하고 학습 및 테스트 데이터를 준비하는 클래스\n",
    "    * load_from_df() 메서드를 사용하여 데이터프레임 형식의 데이터를 Surprise 형식으로 변환"
   ]
  },
  {
   "cell_type": "code",
   "execution_count": 35,
   "metadata": {},
   "outputs": [],
   "source": [
    "import pandas as pd"
   ]
  },
  {
   "cell_type": "code",
   "execution_count": 49,
   "metadata": {},
   "outputs": [
    {
     "data": {
      "text/html": [
       "<div>\n",
       "<style scoped>\n",
       "    .dataframe tbody tr th:only-of-type {\n",
       "        vertical-align: middle;\n",
       "    }\n",
       "\n",
       "    .dataframe tbody tr th {\n",
       "        vertical-align: top;\n",
       "    }\n",
       "\n",
       "    .dataframe thead th {\n",
       "        text-align: right;\n",
       "    }\n",
       "</style>\n",
       "<table border=\"1\" class=\"dataframe\">\n",
       "  <thead>\n",
       "    <tr style=\"text-align: right;\">\n",
       "      <th></th>\n",
       "      <th>user_id</th>\n",
       "      <th>item_id</th>\n",
       "      <th>rating</th>\n",
       "      <th>timestamp</th>\n",
       "    </tr>\n",
       "  </thead>\n",
       "  <tbody>\n",
       "    <tr>\n",
       "      <th>0</th>\n",
       "      <td>1</td>\n",
       "      <td>1193</td>\n",
       "      <td>5</td>\n",
       "      <td>978300760</td>\n",
       "    </tr>\n",
       "    <tr>\n",
       "      <th>1</th>\n",
       "      <td>1</td>\n",
       "      <td>661</td>\n",
       "      <td>3</td>\n",
       "      <td>978302109</td>\n",
       "    </tr>\n",
       "    <tr>\n",
       "      <th>2</th>\n",
       "      <td>1</td>\n",
       "      <td>914</td>\n",
       "      <td>3</td>\n",
       "      <td>978301968</td>\n",
       "    </tr>\n",
       "    <tr>\n",
       "      <th>3</th>\n",
       "      <td>1</td>\n",
       "      <td>3408</td>\n",
       "      <td>4</td>\n",
       "      <td>978300275</td>\n",
       "    </tr>\n",
       "    <tr>\n",
       "      <th>4</th>\n",
       "      <td>1</td>\n",
       "      <td>2355</td>\n",
       "      <td>5</td>\n",
       "      <td>978824291</td>\n",
       "    </tr>\n",
       "    <tr>\n",
       "      <th>...</th>\n",
       "      <td>...</td>\n",
       "      <td>...</td>\n",
       "      <td>...</td>\n",
       "      <td>...</td>\n",
       "    </tr>\n",
       "    <tr>\n",
       "      <th>1000204</th>\n",
       "      <td>6040</td>\n",
       "      <td>1091</td>\n",
       "      <td>1</td>\n",
       "      <td>956716541</td>\n",
       "    </tr>\n",
       "    <tr>\n",
       "      <th>1000205</th>\n",
       "      <td>6040</td>\n",
       "      <td>1094</td>\n",
       "      <td>5</td>\n",
       "      <td>956704887</td>\n",
       "    </tr>\n",
       "    <tr>\n",
       "      <th>1000206</th>\n",
       "      <td>6040</td>\n",
       "      <td>562</td>\n",
       "      <td>5</td>\n",
       "      <td>956704746</td>\n",
       "    </tr>\n",
       "    <tr>\n",
       "      <th>1000207</th>\n",
       "      <td>6040</td>\n",
       "      <td>1096</td>\n",
       "      <td>4</td>\n",
       "      <td>956715648</td>\n",
       "    </tr>\n",
       "    <tr>\n",
       "      <th>1000208</th>\n",
       "      <td>6040</td>\n",
       "      <td>1097</td>\n",
       "      <td>4</td>\n",
       "      <td>956715569</td>\n",
       "    </tr>\n",
       "  </tbody>\n",
       "</table>\n",
       "<p>1000209 rows × 4 columns</p>\n",
       "</div>"
      ],
      "text/plain": [
       "         user_id  item_id  rating  timestamp\n",
       "0              1     1193       5  978300760\n",
       "1              1      661       3  978302109\n",
       "2              1      914       3  978301968\n",
       "3              1     3408       4  978300275\n",
       "4              1     2355       5  978824291\n",
       "...          ...      ...     ...        ...\n",
       "1000204     6040     1091       1  956716541\n",
       "1000205     6040     1094       5  956704887\n",
       "1000206     6040      562       5  956704746\n",
       "1000207     6040     1096       4  956715648\n",
       "1000208     6040     1097       4  956715569\n",
       "\n",
       "[1000209 rows x 4 columns]"
      ]
     },
     "execution_count": 49,
     "metadata": {},
     "output_type": "execute_result"
    }
   ],
   "source": [
    "ratings = pd.read_csv('ratings.dat', sep='::', engine='python', header=None, names=['user_id', 'item_id', 'rating', 'timestamp'], encoding='latin1')\n",
    "ratings"
   ]
  },
  {
   "cell_type": "code",
   "execution_count": 51,
   "metadata": {},
   "outputs": [],
   "source": [
    "import pandas as pd\n",
    "from surprise import Dataset, Reader\n",
    "\n",
    "# 데이터 준비\n",
    "ratings = pd.read_csv('ratings.dat', sep='::', engine='python', header=None, names=['user_id', 'item_id', 'rating', 'timestamp'], encoding='latin1')\n",
    "reader = Reader(rating_scale=(1, 5)) #1점부터 5점차이로 나눔\n",
    "data = Dataset.load_from_df(ratings[['user_id', 'item_id', 'rating']], reader) #Surpeise 라이브러리를 사용하기 위해 형식으로 변환"
   ]
  },
  {
   "cell_type": "code",
   "execution_count": 54,
   "metadata": {},
   "outputs": [
    {
     "data": {
      "text/plain": [
       "<surprise.dataset.DatasetAutoFolds at 0x231b1f0be30>"
      ]
     },
     "execution_count": 54,
     "metadata": {},
     "output_type": "execute_result"
    }
   ],
   "source": [
    " data"
   ]
  },
  {
   "cell_type": "markdown",
   "metadata": {},
   "source": [
    "<surprise.dataset.DatasetAutoFolds at 0x231b1e9fad0>은 scikit-suprise라이브러리의 DataseAutoFolds객체가 정상적으로 객체가 생성되었다는 출력임"
   ]
  },
  {
   "cell_type": "markdown",
   "metadata": {},
   "source": [
    "**(2) 학습 및 테스트 데이터 분할 (train_test_split)**\n",
    " * train_test_split 함수를 사용하여 학습 데이터와 테스트 데이터를 쉽게 분할\n",
    " *  Surprise 라이브러리의 train_test_split은 scikit-learn의 함수와 유사하지만, Surprise의 데이터 형식에 맞게 설계\n",
    "\n",
    " 다양한 데이터 분할 함수는 홈페이지 참고: https://surprise.readthedocs.io/en/stable/model_selection.html"
   ]
  },
  {
   "cell_type": "code",
   "execution_count": 60,
   "metadata": {},
   "outputs": [],
   "source": [
    "from surprise.model_selection import train_test_split \n",
    "# suprise라이브러리 내제된 함수 사용\n",
    "# 학습 및 테스트 데이터로 분할\n",
    "trainset, testset = train_test_split(data, test_size=0.2, random_state=42)"
   ]
  },
  {
   "cell_type": "markdown",
   "metadata": {},
   "source": [
    "**(3) 추천 알고리즘 (KNNBasic, KNNWithMeans, KNNBaseline 등)**\n",
    " * KNNBasic: 사용자 또는 아이템 간 유사도를 기반으로 하는 기본 KNN 알고리즘\n",
    " * KNNWithMeans: 사용자 또는 아이템의 평균 평점을 고려하여 예측 정확도를 향상시킨 KNN 알고리즘\n",
    " * KNNWithZScore: 평점을 Z-점수로 표준화하여 평점의 분포를 반영하는 KNN 알고리즘\n",
    " * KNNBaseline: 사용자와 아이템의 baseline 평점을 보정하여 보다 정교한 예측을 수행하는 KNN 알고리즘\n",
    "\n",
    " 다양한 추천 알고리즘은 홈페이지 참고: https://surprise.readthedocs.io/en/stable/prediction_algorithms_package.html"
   ]
  },
  {
   "cell_type": "code",
   "execution_count": 65,
   "metadata": {},
   "outputs": [
    {
     "name": "stdout",
     "output_type": "stream",
     "text": [
      "Computing the pearson similarity matrix...\n",
      "Done computing similarity matrix.\n"
     ]
    },
    {
     "data": {
      "text/plain": [
       "<surprise.prediction_algorithms.knns.KNNBasic at 0x231b1f0a330>"
      ]
     },
     "execution_count": 65,
     "metadata": {},
     "output_type": "execute_result"
    }
   ],
   "source": [
    "from surprise import KNNBasic\n",
    "\n",
    "# 사용자 기반 협업 필터링 설정 (피어슨 상관계수 사용)\n",
    "sim_options = {\n",
    "    'name': 'pearson',\n",
    "    'user_based': True #사용자 기반\n",
    "}\n",
    "\n",
    "model = KNNBasic(k=20, sim_options=sim_options) # k: 이웃 사용자 수\n",
    "model.fit(trainset)"
   ]
  },
  {
   "cell_type": "markdown",
   "metadata": {},
   "source": [
    "**(4) 유사도 옵션 (sim_options)**\n",
    " * **sim_options**를 사용하여 유사도 계산 방식을 설정\n",
    "    * name: 유사도 계산 방법을 지정 (예: 'cosine', 'pearson')\n",
    "    * user_based: True이면 사용자 기반 유사도, False이면 아이템 기반 유사도를 사용\n",
    "\n",
    "다양한 유사도 옵션은 홈페이지 참고: https://surprise.readthedocs.io/en/stable/similarities.html"
   ]
  },
  {
   "cell_type": "code",
   "execution_count": 67,
   "metadata": {},
   "outputs": [],
   "source": [
    "sim_options = {\n",
    "    'name': 'cosine',  # 코사인 유사도\n",
    "    'user_based': False  # 아이템 기반 협업 필터링\n",
    "}"
   ]
  },
  {
   "cell_type": "markdown",
   "metadata": {},
   "source": [
    "**(5) 모델 평가 (accuracy)**\n",
    " * accuracy 모듈을 사용하여 모델의 예측 성능을 평가\n",
    " * MAE(Mean Absolute Error), RMSE(Root Mean Squared Error) 등 평가지표 지원\n",
    "\n",
    " 다양한 평가지표는 홈페이지 참고: https://surprise.readthedocs.io/en/stable/accuracy.html"
   ]
  },
  {
   "cell_type": "code",
   "execution_count": null,
   "metadata": {},
   "outputs": [],
   "source": [
    "from surprise import accuracy\n",
    "\n",
    "# 테스트 데이터에 대한 평점 예측\n",
    "predictions = model.test(testset)\n",
    "\n",
    "# 성능 평가 (MAE, RMSE)\n",
    "mae = accuracy.mae(predictions, verbose=True)\n",
    "rmse = accuracy.rmse(predictions, verbose=True)"
   ]
  },
  {
   "cell_type": "markdown",
   "metadata": {},
   "source": [
    "### **3. Surprise를 사용한 협업 필터링의 단계**"
   ]
  },
  {
   "cell_type": "markdown",
   "metadata": {},
   "source": [
    "1. **데이터 준비:** 사용자-아이템 평점 데이터셋을 로드하고 Reader를 사용하여 Dataset을 생성\n",
    "2. **학습 및 테스트 데이터 분할:** train_test_split을 사용하여 학습과 테스트 데이터를 분할\n",
    "3. **모델 선택 및 학습:** 사용할 알고리즘(KNNBasic, KNNWithMeans 등)을 선택하고, 학습 데이터를 사용하여 모델을 학습\n",
    "4. **유사도 설정:** 유사도 계산 방식(sim_options)을 설정\n",
    "5. **모델 예측 및 평가:** 테스트 데이터를 사용하여 평점을 예측하고, accuracy를 통해 모델의 성능을 평가"
   ]
  },
  {
   "cell_type": "markdown",
   "metadata": {},
   "source": [
    "### **4. Surprise의 장점**"
   ]
  },
  {
   "cell_type": "markdown",
   "metadata": {},
   "source": [
    "* 간편한 사용성: 협업 필터링 알고리즘의 구현과 평가를 간단히 수행 가능\n",
    "* 다양한 알고리즘 지원: KNN, SVD, NMF와 같은 다양한 추천 알고리즘을 기본적으로 지원\n",
    "* 평가 도구: 성능 평가를 위한 다양한 평가지표와 교차 검증 도구를 제공"
   ]
  },
  {
   "cell_type": "markdown",
   "metadata": {},
   "source": [
    "### **5. 주요 헙업 필터링 알고리즘 비교**"
   ]
  },
  {
   "cell_type": "markdown",
   "metadata": {},
   "source": [
    "* KNNBasic: 단순히 이웃 기반의 평점을 평균하여 예측\n",
    "* KNNWithMeans: 사용자/아이템의 평균을 보정하여 예측 성능을 향상\n",
    "* KNNWithZScore: 평점을 Z-점수로 변환하여 데이터의 편향 감소\n",
    "* KNNBaseline: 사용자와 아이템의 baseline 편향을 보정하여 정확한 평점을 예측"
   ]
  },
  {
   "cell_type": "markdown",
   "metadata": {},
   "source": [
    "### **6. Surprise 라이브러리 실습**"
   ]
  },
  {
   "cell_type": "markdown",
   "metadata": {},
   "source": [
    "#### Step 1: 라이브러리 임포트"
   ]
  },
  {
   "cell_type": "code",
   "execution_count": null,
   "metadata": {},
   "outputs": [],
   "source": [
    "import pandas as pd\n",
    "from surprise import Dataset, Reader, KNNBasic, KNNWithMeans, KNNWithZScore, KNNBaseline, accuracy\n",
    "from surprise.model_selection import train_test_split as surprise_train_test_split"
   ]
  },
  {
   "cell_type": "markdown",
   "metadata": {},
   "source": [
    "#### Step 2: MovieLens 1M 데이터셋 불러오기"
   ]
  },
  {
   "cell_type": "code",
   "execution_count": null,
   "metadata": {},
   "outputs": [],
   "source": [
    "ratings = pd.read_csv('ratings.dat', sep='::', engine='python', header=None, names=['user_id', 'item_id', 'rating', 'timestamp'], encoding='latin1')"
   ]
  },
  {
   "cell_type": "code",
   "execution_count": null,
   "metadata": {},
   "outputs": [],
   "source": [
    "ratings.head()"
   ]
  },
  {
   "cell_type": "markdown",
   "metadata": {},
   "source": [
    "#### Step 3: Surprise 라이브러리용 데이터 준비"
   ]
  },
  {
   "cell_type": "code",
   "execution_count": null,
   "metadata": {},
   "outputs": [],
   "source": [
    "reader = Reader(rating_scale=(1, 5))\n",
    "data = Dataset.load_from_df(ratings[['user_id', 'item_id', 'rating']], reader)"
   ]
  },
  {
   "cell_type": "markdown",
   "metadata": {},
   "source": [
    "#### Step 4: 학습 데이터와 테스트 데이터로 분할 (80:20 비율)"
   ]
  },
  {
   "cell_type": "code",
   "execution_count": null,
   "metadata": {},
   "outputs": [],
   "source": [
    "trainset, testset = surprise_train_test_split(data, test_size=0.2, random_state=42)"
   ]
  },
  {
   "cell_type": "markdown",
   "metadata": {},
   "source": [
    "#### Step 5: 사용자 기반 협업 필터링 (피어슨 상관계수)"
   ]
  },
  {
   "cell_type": "code",
   "execution_count": null,
   "metadata": {},
   "outputs": [],
   "source": [
    "sim_options_user_pearson = {\n",
    "    'name': 'pearson',\n",
    "    'user_based': True  # 사용자 기반 협업 필터링\n",
    "}\n",
    "\n",
    "knn_models = {\n",
    "    'KNNBasic': KNNBasic,  # 기본 KNN 알고리즘\n",
    "    'KNNWithMeans': KNNWithMeans,  # 평균 평점을 고려한 KNN 알고리즘\n",
    "    'KNNWithZScore': KNNWithZScore,  # 평점을 표준화하여 예측하는 KNN 알고리즘\n",
    "    'KNNBaseline': KNNBaseline  # Baseline 평점을 기반으로 예측하는 KNN 알고리즘\n",
    "}"
   ]
  },
  {
   "cell_type": "code",
   "execution_count": null,
   "metadata": {},
   "outputs": [],
   "source": [
    "for model_name, model_class in knn_models.items():\n",
    "    print(f\"\\n--- {model_name} (사용자 기반, 피어슨 상관계수) ---\")\n",
    "    model = model_class(k= 40, sim_options=sim_options_user_pearson)\n",
    "    model.fit(trainset)\n",
    "\n",
    "    # 테스트 데이터에 대한 예측\n",
    "    predictions = model.test(testset)\n",
    "\n",
    "    # 모델 성능 평가 (MAE 및 RMSE)\n",
    "    mae = accuracy.mae(predictions, verbose=True)\n",
    "    rmse = accuracy.rmse(predictions, verbose=True)\n",
    "\n",
    "    # 평가 결과 출력\n",
    "    print(f'{model_name} (사용자 기반, 피어슨 상관계수) MAE: {mae}')\n",
    "    print(f'{model_name} (사용자 기반, 피어슨 상관계수) RMSE: {rmse}')"
   ]
  },
  {
   "cell_type": "markdown",
   "metadata": {},
   "source": [
    "#### Step 6: 아이템 기반 협업 필터링 (코사인 유사도)"
   ]
  },
  {
   "cell_type": "code",
   "execution_count": null,
   "metadata": {},
   "outputs": [],
   "source": [
    "sim_options_item_cosine = {\n",
    "    'name': 'cosine',\n",
    "    'user_based': False  # 아이템 기반 협업 필터링\n",
    "}"
   ]
  },
  {
   "cell_type": "code",
   "execution_count": null,
   "metadata": {},
   "outputs": [],
   "source": [
    "for model_name, model_class in knn_models.items():\n",
    "    print(f\"\\n--- {model_name} (아이템 기반, 코사인 유사도) ---\")\n",
    "    model = model_class(sim_options=sim_options_item_cosine)\n",
    "    model.fit(trainset)\n",
    "\n",
    "    # 테스트 데이터에 대한 예측\n",
    "    predictions = model.test(testset)\n",
    "\n",
    "    # 모델 성능 평가 (MAE 및 RMSE)\n",
    "    mae = accuracy.mae(predictions, verbose=True)\n",
    "    rmse = accuracy.rmse(predictions, verbose=True)\n",
    "\n",
    "    # 평가 결과 출력\n",
    "    print(f'{model_name} (아이템 기반, 코사인 유사도) MAE: {mae}')\n",
    "    print(f'{model_name} (아이템 기반, 코사인 유사도) RMSE: {rmse}')"
   ]
  },
  {
   "cell_type": "markdown",
   "metadata": {},
   "source": [
    "#### Step 7: 다양한 이웃 크기를 고려한 아이템 기반 협업 필터링"
   ]
  },
  {
   "cell_type": "code",
   "execution_count": null,
   "metadata": {},
   "outputs": [],
   "source": [
    "neighbor_sizes = [10, 20, 40]  # 다양한 이웃 크기 설정"
   ]
  },
  {
   "cell_type": "code",
   "execution_count": null,
   "metadata": {},
   "outputs": [],
   "source": [
    "for k in neighbor_sizes:\n",
    "    for model_name, model_class in knn_models.items():\n",
    "        print(f\"\\n--- {model_name} (아이템 기반, 코사인 유사도, k={k}) ---\")\n",
    "        model = model_class(k=k, sim_options=sim_options_item_cosine)\n",
    "        model.fit(trainset)\n",
    "\n",
    "        # 테스트 데이터에 대한 예측\n",
    "        predictions = model.test(testset)\n",
    "\n",
    "        # 모델 성능 평가 (MAE 및 RMSE)\n",
    "        mae = accuracy.mae(predictions, verbose=True)\n",
    "        rmse = accuracy.rmse(predictions, verbose=True)\n",
    "\n",
    "        # 평가 결과 출력\n",
    "        print(f'{model_name} (아이템 기반, 코사인 유사도, k={k}) MAE: {mae}')\n",
    "        print(f'{model_name} (아이템 기반, 코사인 유사도, k={k}) RMSE: {rmse}')"
   ]
  }
 ],
 "metadata": {
  "kernelspec": {
   "display_name": "Python 3 (ipykernel)",
   "language": "python",
   "name": "python3"
  },
  "language_info": {
   "codemirror_mode": {
    "name": "ipython",
    "version": 3
   },
   "file_extension": ".py",
   "mimetype": "text/x-python",
   "name": "python",
   "nbconvert_exporter": "python",
   "pygments_lexer": "ipython3",
   "version": "3.12.4"
  }
 },
 "nbformat": 4,
 "nbformat_minor": 4
}
