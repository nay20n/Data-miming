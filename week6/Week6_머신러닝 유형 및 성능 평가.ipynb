{
 "cells": [
  {
   "cell_type": "markdown",
   "metadata": {},
   "source": [
    "# **Week 6: 머신러닝 유형 및 성능 평가**"
   ]
  },
  {
   "cell_type": "markdown",
   "metadata": {},
   "source": [
    "## **1. Scikit-learn 소개**"
   ]
  },
  {
   "cell_type": "markdown",
   "metadata": {},
   "source": [
    "### **1.1 개요**"
   ]
  },
  {
   "cell_type": "markdown",
   "metadata": {},
   "source": [
    "<img src=\"https://scikit-learn.org/1.4/_static/ml_map.png\" height=\"400\">"
   ]
  },
  {
   "cell_type": "markdown",
   "metadata": {},
   "source": [
    "* Scikit-learn은 파이썬 기반의 오픈소스 머신러닝 라이브러리로, 다양한 머신러닝 알고리즘과 전처리 도구를 간단하고 일관된 방식으로 제공\n",
    "\n",
    "    - 분류, 회귀, 클러스터링, 차원 축소, 모델 선택, 전처리 등 대부분의 기본적인 머신러닝 작업을 지원\n",
    "\n",
    "    - `.fit()`, `.predict()`, `.transform()` 같은 일관된 메서드 구조로 사용법이 직관적이고 쉬움\n",
    "\n",
    "    - NumPy, SciPy, matplotlib 등 라이브러리와 호환되어 있어 학습용, 실무용 모두에 적합\n",
    "\n",
    "    - 경량형 모델이면서도 성능이 우수하여 교육, 프로토타이핑, 간단한 실무 프로젝트에 널리 활용"
   ]
  },
  {
   "cell_type": "markdown",
   "metadata": {},
   "source": [
    "### **1.2 주요 특징**"
   ]
  },
  {
   "cell_type": "markdown",
   "metadata": {},
   "source": [
    "| 항목 | 설명 |\n",
    "|------|------|\n",
    "| **다양한 알고리즘 지원** | 지도학습, 비지도학습, 차원 축소, 앙상블 등 대부분의 기법 내장 |\n",
    "| **간결하고 일관된 API** | 모든 모델이 동일한 사용 방식 → 알고리즘 교체가 쉬움 |\n",
    "| **전처리 및 평가 도구 포함** | 인코딩, 스케일링, 교차검증, 평가 지표 등 통합 제공 |\n",
    "| **풍부한 튜토리얼 및 문서** | 공식 문서와 커뮤니티 지원이 풍부하여 학습 및 실습에 용이 |\n",
    "| **파이프라인 지원** | 전처리 → 학습 → 평가 과정을 체인처럼 연결 가능 |"
   ]
  },
  {
   "cell_type": "markdown",
   "metadata": {},
   "source": [
    "### **1.3 Scikit-learn 내장 함수**"
   ]
  },
  {
   "cell_type": "markdown",
   "metadata": {},
   "source": [
    "| 분류 | 기능 | 예시 |\n",
    "|------|------|------|\n",
    "| **데이터 로딩** | 내장 데이터셋 제공 | `load_iris()`, `load_wine()`, `load_breast_cancer()` |\n",
    "| **데이터 전처리** | 인코딩, 스케일링, 결측값 처리 | `StandardScaler`, `LabelEncoder`, `SimpleImputer` |\n",
    "| **모델링** | 분류, 회귀, 클러스터링 등 | `LogisticRegression`, `RandomForest`, `KMeans`, `PCA` |\n",
    "| **모델 평가** | 정확도, F1, MSE, R² 등 | `accuracy_score`, `f1_score`, `mean_squared_error` |\n",
    "| **모델 선택** | 교차검증, 하이퍼파라미터 튜닝 | `GridSearchCV`, `cross_val_score` |\n",
    "| **파이프라인 구성** | 전체 과정을 체인으로 구성 | `Pipeline`, `make_pipeline` |"
   ]
  },
  {
   "cell_type": "markdown",
   "metadata": {},
   "source": [
    "### **1.4 Scikit-learn 사용 방법**"
   ]
  },
  {
   "cell_type": "markdown",
   "metadata": {},
   "source": [
    "* [★중요★] Scikit-learn은 기본 Python 설치에는 포함되어 있지 않기 때문에, 처음 사용하는 환경에서는 라이브러리 설치가 필요함"
   ]
  },
  {
   "cell_type": "code",
   "execution_count": null,
   "metadata": {},
   "outputs": [],
   "source": [
    "# !pip install scikit-learn"
   ]
  },
  {
   "cell_type": "code",
   "execution_count": 1,
   "metadata": {},
   "outputs": [
    {
     "name": "stdout",
     "output_type": "stream",
     "text": [
      "1.6.1\n"
     ]
    }
   ],
   "source": [
    "import sklearn\n",
    "print(sklearn.__version__)"
   ]
  },
  {
   "cell_type": "markdown",
   "metadata": {},
   "source": [
    "* 머신러닝을 수행할 때의 전형적인 단계는 다음과 같음\n",
    "\n",
    "  1. **데이터 로딩**\n",
    "   \n",
    "  2. **데이터 분할**\n",
    "   \n",
    "  3. **모델 선택 및 학습**\n",
    "   \n",
    "  4. **예측 및 평가**\n",
    "   \n",
    "  5. **모델 개선 및 하이퍼파라미터 튜닝** (선택) "
   ]
  },
  {
   "cell_type": "markdown",
   "metadata": {},
   "source": [
    "1. **데이터 로딩**\n",
    "\n",
    "* 머신러닝에 사용할 데이터를 불러오는 단계\n",
    "\n",
    "* Scikit-learn에서는 `load_iris()`, `load_wine()` 등 내장 데이터를 쉽게 호출 가능\n",
    "\n",
    "* 일반적으로 분석 목적에 적합한 외부 데이터를 직접 불러와서 사용"
   ]
  },
  {
   "cell_type": "code",
   "execution_count": 4,
   "metadata": {},
   "outputs": [],
   "source": [
    "from sklearn.datasets import load_iris  \n",
    "data = load_iris()  \n",
    "X, y = data.data, data.target"
   ]
  },
  {
   "cell_type": "code",
   "execution_count": 5,
   "metadata": {},
   "outputs": [
    {
     "data": {
      "text/plain": [
       "array([[5.1, 3.5, 1.4, 0.2],\n",
       "       [4.9, 3. , 1.4, 0.2],\n",
       "       [4.7, 3.2, 1.3, 0.2],\n",
       "       [4.6, 3.1, 1.5, 0.2],\n",
       "       [5. , 3.6, 1.4, 0.2],\n",
       "       [5.4, 3.9, 1.7, 0.4],\n",
       "       [4.6, 3.4, 1.4, 0.3],\n",
       "       [5. , 3.4, 1.5, 0.2],\n",
       "       [4.4, 2.9, 1.4, 0.2],\n",
       "       [4.9, 3.1, 1.5, 0.1],\n",
       "       [5.4, 3.7, 1.5, 0.2],\n",
       "       [4.8, 3.4, 1.6, 0.2],\n",
       "       [4.8, 3. , 1.4, 0.1],\n",
       "       [4.3, 3. , 1.1, 0.1],\n",
       "       [5.8, 4. , 1.2, 0.2],\n",
       "       [5.7, 4.4, 1.5, 0.4],\n",
       "       [5.4, 3.9, 1.3, 0.4],\n",
       "       [5.1, 3.5, 1.4, 0.3],\n",
       "       [5.7, 3.8, 1.7, 0.3],\n",
       "       [5.1, 3.8, 1.5, 0.3],\n",
       "       [5.4, 3.4, 1.7, 0.2],\n",
       "       [5.1, 3.7, 1.5, 0.4],\n",
       "       [4.6, 3.6, 1. , 0.2],\n",
       "       [5.1, 3.3, 1.7, 0.5],\n",
       "       [4.8, 3.4, 1.9, 0.2],\n",
       "       [5. , 3. , 1.6, 0.2],\n",
       "       [5. , 3.4, 1.6, 0.4],\n",
       "       [5.2, 3.5, 1.5, 0.2],\n",
       "       [5.2, 3.4, 1.4, 0.2],\n",
       "       [4.7, 3.2, 1.6, 0.2],\n",
       "       [4.8, 3.1, 1.6, 0.2],\n",
       "       [5.4, 3.4, 1.5, 0.4],\n",
       "       [5.2, 4.1, 1.5, 0.1],\n",
       "       [5.5, 4.2, 1.4, 0.2],\n",
       "       [4.9, 3.1, 1.5, 0.2],\n",
       "       [5. , 3.2, 1.2, 0.2],\n",
       "       [5.5, 3.5, 1.3, 0.2],\n",
       "       [4.9, 3.6, 1.4, 0.1],\n",
       "       [4.4, 3. , 1.3, 0.2],\n",
       "       [5.1, 3.4, 1.5, 0.2],\n",
       "       [5. , 3.5, 1.3, 0.3],\n",
       "       [4.5, 2.3, 1.3, 0.3],\n",
       "       [4.4, 3.2, 1.3, 0.2],\n",
       "       [5. , 3.5, 1.6, 0.6],\n",
       "       [5.1, 3.8, 1.9, 0.4],\n",
       "       [4.8, 3. , 1.4, 0.3],\n",
       "       [5.1, 3.8, 1.6, 0.2],\n",
       "       [4.6, 3.2, 1.4, 0.2],\n",
       "       [5.3, 3.7, 1.5, 0.2],\n",
       "       [5. , 3.3, 1.4, 0.2],\n",
       "       [7. , 3.2, 4.7, 1.4],\n",
       "       [6.4, 3.2, 4.5, 1.5],\n",
       "       [6.9, 3.1, 4.9, 1.5],\n",
       "       [5.5, 2.3, 4. , 1.3],\n",
       "       [6.5, 2.8, 4.6, 1.5],\n",
       "       [5.7, 2.8, 4.5, 1.3],\n",
       "       [6.3, 3.3, 4.7, 1.6],\n",
       "       [4.9, 2.4, 3.3, 1. ],\n",
       "       [6.6, 2.9, 4.6, 1.3],\n",
       "       [5.2, 2.7, 3.9, 1.4],\n",
       "       [5. , 2. , 3.5, 1. ],\n",
       "       [5.9, 3. , 4.2, 1.5],\n",
       "       [6. , 2.2, 4. , 1. ],\n",
       "       [6.1, 2.9, 4.7, 1.4],\n",
       "       [5.6, 2.9, 3.6, 1.3],\n",
       "       [6.7, 3.1, 4.4, 1.4],\n",
       "       [5.6, 3. , 4.5, 1.5],\n",
       "       [5.8, 2.7, 4.1, 1. ],\n",
       "       [6.2, 2.2, 4.5, 1.5],\n",
       "       [5.6, 2.5, 3.9, 1.1],\n",
       "       [5.9, 3.2, 4.8, 1.8],\n",
       "       [6.1, 2.8, 4. , 1.3],\n",
       "       [6.3, 2.5, 4.9, 1.5],\n",
       "       [6.1, 2.8, 4.7, 1.2],\n",
       "       [6.4, 2.9, 4.3, 1.3],\n",
       "       [6.6, 3. , 4.4, 1.4],\n",
       "       [6.8, 2.8, 4.8, 1.4],\n",
       "       [6.7, 3. , 5. , 1.7],\n",
       "       [6. , 2.9, 4.5, 1.5],\n",
       "       [5.7, 2.6, 3.5, 1. ],\n",
       "       [5.5, 2.4, 3.8, 1.1],\n",
       "       [5.5, 2.4, 3.7, 1. ],\n",
       "       [5.8, 2.7, 3.9, 1.2],\n",
       "       [6. , 2.7, 5.1, 1.6],\n",
       "       [5.4, 3. , 4.5, 1.5],\n",
       "       [6. , 3.4, 4.5, 1.6],\n",
       "       [6.7, 3.1, 4.7, 1.5],\n",
       "       [6.3, 2.3, 4.4, 1.3],\n",
       "       [5.6, 3. , 4.1, 1.3],\n",
       "       [5.5, 2.5, 4. , 1.3],\n",
       "       [5.5, 2.6, 4.4, 1.2],\n",
       "       [6.1, 3. , 4.6, 1.4],\n",
       "       [5.8, 2.6, 4. , 1.2],\n",
       "       [5. , 2.3, 3.3, 1. ],\n",
       "       [5.6, 2.7, 4.2, 1.3],\n",
       "       [5.7, 3. , 4.2, 1.2],\n",
       "       [5.7, 2.9, 4.2, 1.3],\n",
       "       [6.2, 2.9, 4.3, 1.3],\n",
       "       [5.1, 2.5, 3. , 1.1],\n",
       "       [5.7, 2.8, 4.1, 1.3],\n",
       "       [6.3, 3.3, 6. , 2.5],\n",
       "       [5.8, 2.7, 5.1, 1.9],\n",
       "       [7.1, 3. , 5.9, 2.1],\n",
       "       [6.3, 2.9, 5.6, 1.8],\n",
       "       [6.5, 3. , 5.8, 2.2],\n",
       "       [7.6, 3. , 6.6, 2.1],\n",
       "       [4.9, 2.5, 4.5, 1.7],\n",
       "       [7.3, 2.9, 6.3, 1.8],\n",
       "       [6.7, 2.5, 5.8, 1.8],\n",
       "       [7.2, 3.6, 6.1, 2.5],\n",
       "       [6.5, 3.2, 5.1, 2. ],\n",
       "       [6.4, 2.7, 5.3, 1.9],\n",
       "       [6.8, 3. , 5.5, 2.1],\n",
       "       [5.7, 2.5, 5. , 2. ],\n",
       "       [5.8, 2.8, 5.1, 2.4],\n",
       "       [6.4, 3.2, 5.3, 2.3],\n",
       "       [6.5, 3. , 5.5, 1.8],\n",
       "       [7.7, 3.8, 6.7, 2.2],\n",
       "       [7.7, 2.6, 6.9, 2.3],\n",
       "       [6. , 2.2, 5. , 1.5],\n",
       "       [6.9, 3.2, 5.7, 2.3],\n",
       "       [5.6, 2.8, 4.9, 2. ],\n",
       "       [7.7, 2.8, 6.7, 2. ],\n",
       "       [6.3, 2.7, 4.9, 1.8],\n",
       "       [6.7, 3.3, 5.7, 2.1],\n",
       "       [7.2, 3.2, 6. , 1.8],\n",
       "       [6.2, 2.8, 4.8, 1.8],\n",
       "       [6.1, 3. , 4.9, 1.8],\n",
       "       [6.4, 2.8, 5.6, 2.1],\n",
       "       [7.2, 3. , 5.8, 1.6],\n",
       "       [7.4, 2.8, 6.1, 1.9],\n",
       "       [7.9, 3.8, 6.4, 2. ],\n",
       "       [6.4, 2.8, 5.6, 2.2],\n",
       "       [6.3, 2.8, 5.1, 1.5],\n",
       "       [6.1, 2.6, 5.6, 1.4],\n",
       "       [7.7, 3. , 6.1, 2.3],\n",
       "       [6.3, 3.4, 5.6, 2.4],\n",
       "       [6.4, 3.1, 5.5, 1.8],\n",
       "       [6. , 3. , 4.8, 1.8],\n",
       "       [6.9, 3.1, 5.4, 2.1],\n",
       "       [6.7, 3.1, 5.6, 2.4],\n",
       "       [6.9, 3.1, 5.1, 2.3],\n",
       "       [5.8, 2.7, 5.1, 1.9],\n",
       "       [6.8, 3.2, 5.9, 2.3],\n",
       "       [6.7, 3.3, 5.7, 2.5],\n",
       "       [6.7, 3. , 5.2, 2.3],\n",
       "       [6.3, 2.5, 5. , 1.9],\n",
       "       [6.5, 3. , 5.2, 2. ],\n",
       "       [6.2, 3.4, 5.4, 2.3],\n",
       "       [5.9, 3. , 5.1, 1.8]])"
      ]
     },
     "execution_count": 5,
     "metadata": {},
     "output_type": "execute_result"
    }
   ],
   "source": [
    "X"
   ]
  },
  {
   "cell_type": "markdown",
   "metadata": {},
   "source": [
    "2. **데이터 분할**\n",
    "\n",
    "* 전체 데이터를 훈련용(Train)과 평가용(Test)으로 분할\n",
    "\n",
    "* 일반적으로 70~80%는 훈련용, 나머지는 테스트용으로 사용\n",
    "\n",
    "* Scikit-learn의 `train_test_split()` 함수 사용"
   ]
  },
  {
   "cell_type": "code",
   "execution_count": null,
   "metadata": {},
   "outputs": [],
   "source": [
    "from sklearn.model_selection import train_test_split  \n",
    "X_train, X_test, y_train, y_test = train_test_split(X, y, test_size=0.2, random_state=42)"
   ]
  },
  {
   "cell_type": "markdown",
   "metadata": {},
   "source": [
    "3. **모델 선택 및 학습**\n",
    "\n",
    "* 문제 유형(분류, 회귀 등)에 따라 적절한 알고리즘 선택\n",
    "\n",
    "* 모델 객체를 생성하고 `.fit()` 메서드로 학습 진행"
   ]
  },
  {
   "cell_type": "code",
   "execution_count": null,
   "metadata": {},
   "outputs": [],
   "source": [
    "from sklearn.ensemble import RandomForestClassifier  \n",
    "model = RandomForestClassifier()  \n",
    "model.fit(X_train, y_train)"
   ]
  },
  {
   "cell_type": "markdown",
   "metadata": {},
   "source": [
    "4. **예측 및 평가**\n",
    "\n",
    "* `.predict()`로 테스트 데이터에 대한 예측 수행\n",
    "\n",
    "* `.score()` 또는 평가 지표 함수(`accuracy_score`, `f1_score` 등)로 성능 평가"
   ]
  },
  {
   "cell_type": "code",
   "execution_count": null,
   "metadata": {},
   "outputs": [],
   "source": [
    "from sklearn.metrics import accuracy_score  \n",
    "y_pred = model.predict(X_test)  \n",
    "print(\"정확도:\", accuracy_score(y_test, y_pred))"
   ]
  },
  {
   "cell_type": "markdown",
   "metadata": {},
   "source": [
    "5. **모델 개선 및 하이퍼파라미터 튜닝(선택)**\n",
    "\n",
    "    * 모델 성능을 높이기 위한 추가 과정\n",
    "\n",
    "    * 다른 모델 사용(`SVC`, `GradientBoosting`, `XGBoost` 등)\n",
    "\n",
    "    * 파라미터 조정(`n_estimators`, `max_depth` 등)\n",
    "\n",
    "    * 교차검증 적용(`cross_val_score`, `GridSearchCV` 등)\n",
    "\n",
    "    * 전처리 또는 특성 선택 전략 추가"
   ]
  },
  {
   "cell_type": "markdown",
   "metadata": {},
   "source": [
    "## **2. 왜 머신러닝을 사용하는가?**"
   ]
  },
  {
   "cell_type": "markdown",
   "metadata": {},
   "source": [
    "* 머신러닝은 사람이 명확한 규칙을 정의하기 어려운 문제를 해결하고, 대규모 데이터를 효과적으로 활용하기 위해 필수적인 기술임"
   ]
  },
  {
   "cell_type": "markdown",
   "metadata": {},
   "source": [
    "<img src=\"https://files.codingninjas.in/article_images/rule-based-classification-in-data-mining-1-1669657451.webp\" height=\"400\">"
   ]
  },
  {
   "cell_type": "markdown",
   "metadata": {},
   "source": [
    "### **2.1 명시적인 규칙 정의가 어려운 문제 해결 가능**"
   ]
  },
  {
   "cell_type": "markdown",
   "metadata": {},
   "source": [
    "- 전통적인 프로그래밍 방식은 사람이 조건문(if, else)이나 정규표현식 등을 이용하여 규칙을 직접 정의해야 하므로, 복잡하고 추상적인 문제에는 한계가 있음\n",
    "\n",
    "- 머신러닝은 데이터를 바탕으로 규칙을 자동으로 학습하여 이러한 문제를 해결할 수 있음"
   ]
  },
  {
   "cell_type": "markdown",
   "metadata": {},
   "source": [
    "**예시:**\n",
    "\n",
    "- **스팸 필터링**: 다양한 표현 방식(예: \"cl1ck h3re\", \"fr33 m0ney\")은 사람이 일일이 정의하기 어려움\n",
    "\n",
    "- **이미지 분류**: 고양이의 형태는 수천 가지 이상으로 다양함 → 규칙 정의가 불가능\n",
    "\n",
    "- **감정 분석**: 문장의 뉘앙스와 맥락을 사람이 코드로 정의하기 어려움"
   ]
  },
  {
   "cell_type": "code",
   "execution_count": null,
   "metadata": {},
   "outputs": [],
   "source": [
    "def is_spam(email_text):\n",
    "    spam_keywords = ['lottery', 'free', 'winner', 'money', 'click here', 'urgent']\n",
    "\n",
    "    for keyword in spam_keywords:\n",
    "        if keyword in email_text.lower():\n",
    "            return True\n",
    "    return False"
   ]
  },
  {
   "cell_type": "code",
   "execution_count": null,
   "metadata": {},
   "outputs": [],
   "source": [
    "# 테스트 예시\n",
    "email1 = \"Congratulations! You are a winner of a free lottery. Click here to claim your money!\"\n",
    "email2 = \"Let's catch up for lunch tomorrow.\"\n",
    "\n",
    "print(is_spam(email1))\n",
    "print(is_spam(email2)) "
   ]
  },
  {
   "cell_type": "markdown",
   "metadata": {},
   "source": [
    "**문제점:**\n",
    "\n",
    "* 규칙 기반 방법은 초기 구현은 간단하지만, 다양한 표현 방식, 문맥, 은어 등을 고려하지 못해 실제 서비스에서는 한계가 명확함\n",
    "\n",
    "| 문제점 | 설명 |\n",
    "|--------|------|\n",
    "| **표현 다양성** | 같은 의미라도 표현 방식이 다르면 탐지가 안 됨. 예: `\"cl1ck h3re\"`, `\"fr33 m0ney\"` |\n",
    "| **오탐 가능성** | 정상적인 이메일에도 `\"free\"`, `\"urgent\"` 같은 단어가 포함될 수 있음 → False Positive |\n",
    "| **유지보수 어려움** | 스팸 발신자가 새로운 표현을 사용할 때마다 사람이 수동으로 규칙을 추가해야 함 |\n",
    "| **복잡한 문맥 이해 불가** | “이번엔 무료가 아닙니다만, 특별한 제안을 드립니다” → 문맥적 의미 파악 불가 |"
   ]
  },
  {
   "cell_type": "markdown",
   "metadata": {},
   "source": [
    "### **2.2 대규모 데이터로부터 패턴을 자동으로 학습**"
   ]
  },
  {
   "cell_type": "markdown",
   "metadata": {},
   "source": [
    "- 머신러닝은 수천~수만 개의 데이터를 기반으로 패턴을 학습하고 예측이나 분류에 활용할 수 있음\n",
    "\n",
    "- 데이터가 많아질수록 모델 성능이 좋아지는 경향을 보임"
   ]
  },
  {
   "cell_type": "markdown",
   "metadata": {},
   "source": [
    "**예시:**\n",
    "- 수만 개의 이메일을 분석하여 어떤 단어 조합이 스팸인지 자동으로 파악\n",
    "\n",
    "- 고객 행동 데이터를 기반으로 구매 예측 또는 개인 맞춤 추천 수행"
   ]
  },
  {
   "cell_type": "code",
   "execution_count": null,
   "metadata": {},
   "outputs": [],
   "source": [
    "# 샘플 데이터 준비\n",
    "emails = [\n",
    "    \"Congratulations, you have won a free lottery. Click here to claim your prize.\",\n",
    "    \"Important update about your account. Urgent action required!\",\n",
    "    \"Let's catch up over coffee this weekend.\",\n",
    "    \"Limited time offer! Free money if you respond now!\",\n",
    "    \"Hi John, are we still on for the meeting tomorrow?\",\n",
    "]\n",
    "\n",
    "labels = [1, 1, 0, 1, 0]  # 1 = 스팸, 0 = 정상"
   ]
  },
  {
   "cell_type": "code",
   "execution_count": null,
   "metadata": {},
   "outputs": [],
   "source": [
    "# 텍스트 전처리 및 벡터화\n",
    "from sklearn.feature_extraction.text import CountVectorizer\n",
    "vectorizer = CountVectorizer()\n",
    "X = vectorizer.fit_transform(emails)"
   ]
  },
  {
   "cell_type": "code",
   "execution_count": null,
   "metadata": {},
   "outputs": [],
   "source": [
    "# 분류기 학습\n",
    "from sklearn.naive_bayes import MultinomialNB\n",
    "model = MultinomialNB()\n",
    "model.fit(X, labels)"
   ]
  },
  {
   "cell_type": "code",
   "execution_count": null,
   "metadata": {},
   "outputs": [],
   "source": [
    "# 새로운 이메일 예측\n",
    "new_email = [\"Get free access now! Click here to win.\"]\n",
    "X_new = vectorizer.transform(new_email)\n",
    "prediction = model.predict(X_new)\n",
    "\n",
    "print(\"예측 결과:\", \"스팸\" if prediction[0] == 1 else \"정상\")"
   ]
  },
  {
   "cell_type": "markdown",
   "metadata": {},
   "source": [
    "### **2.3 반복적인 학습을 통해 성능 개선 가능**"
   ]
  },
  {
   "cell_type": "markdown",
   "metadata": {},
   "source": [
    "<img src=\"https://microsoft.github.io/ai-at-edge/assets/images/ML_flow.PNG\" height=\"300\">"
   ]
  },
  {
   "cell_type": "markdown",
   "metadata": {},
   "source": [
    "- 모델은 새로운 데이터로 재학습하거나 온라인 학습을 통해 지속적으로 성능을 개선함\n",
    "\n",
    "- 이는 고정된 규칙으로 동작하는 전통적 시스템과 가장 큰 차이점 중 하나임"
   ]
  },
  {
   "cell_type": "markdown",
   "metadata": {},
   "source": [
    "### **2.4 유연성과 확장성**"
   ]
  },
  {
   "cell_type": "markdown",
   "metadata": {},
   "source": [
    "- 머신러닝 모델은 입력 데이터의 구조나 문제 유형이 바뀌어도 유연하게 대응할 수 있음\n",
    "\n",
    "- 예: 같은 알고리즘(로지스틱 회귀, SVM 등)을 감정 분석, 사기 탐지, 이탈 예측 등에 재활용 가능"
   ]
  },
  {
   "cell_type": "markdown",
   "metadata": {},
   "source": [
    "### **2.5 다양한 산업 분야에서 실무 적용**"
   ]
  },
  {
   "cell_type": "markdown",
   "metadata": {},
   "source": [
    "- 머신러닝은 다양한 도메인에 걸쳐 실무에서 널리 사용됨\n",
    "\n",
    "| 분야 | 활용 예시 |\n",
    "|------|-----------|\n",
    "| **의료** | 질병 진단, 의료 영상 분석 |\n",
    "| **금융** | 신용 평가, 사기 거래 탐지 |\n",
    "| **유통/마케팅** | 고객 세분화, 추천 시스템 |\n",
    "| **제조** | 불량 예측, 설비 고장 예측 |\n",
    "| **콘텐츠/미디어** | 영상 추천, 뉴스 자동 분류 |"
   ]
  },
  {
   "cell_type": "markdown",
   "metadata": {},
   "source": [
    "### **2.6 전통적 방식 vs 머신러닝**"
   ]
  },
  {
   "cell_type": "markdown",
   "metadata": {},
   "source": [
    "| 항목 | 전통적 규칙 기반 | 머신러닝 기반 |\n",
    "|------|------------------|----------------|\n",
    "| **규칙 작성** | 사람이 직접 정의 | 데이터 기반으로 자동 학습 |\n",
    "| **유지보수** | 수동으로 규칙 업데이트 필요 | 데이터만 주면 재학습 가능 |\n",
    "| **표현 다양성 대응** | 매우 취약 | 강력하게 대응 가능 |\n",
    "| **초기 구현** | 상대적으로 쉬움 | 모델링/학습 필요 |\n",
    "| **장기적 성능** | 낮거나 정체됨 | 학습 데이터 증가에 따라 개선 가능 |"
   ]
  },
  {
   "cell_type": "markdown",
   "metadata": {},
   "source": [
    "## **3. 머신러닝의 종류**"
   ]
  },
  {
   "cell_type": "markdown",
   "metadata": {},
   "source": [
    "* 머신러닝은 학습 데이터의 유형과 문제 해결 방식에 따라 다음과 같이 크게 두 가지로 나눌 수 있음"
   ]
  },
  {
   "cell_type": "markdown",
   "metadata": {},
   "source": [
    "### **3.1 지도학습 (Supervised Learning)**"
   ]
  },
  {
   "cell_type": "markdown",
   "metadata": {},
   "source": [
    "<img src=\"https://www.simplilearn.com/ice9/free_resources_article_thumb/Regression_vs_Classification.jpg\" height=\"400\">"
   ]
  },
  {
   "cell_type": "markdown",
   "metadata": {},
   "source": [
    "- **정의**: 입력 데이터(Input)와 그에 대한 정답(Label)이 주어진 상태에서 학습하는 방식\n",
    "\n",
    "- **목표**: 입력을 받아 올바른 출력을 예측하는 모델을 만드는 것\n",
    "\n",
    "  - **회귀(Regression)**: 연속적인 수치 예측 (예: 집값, 온도)\n",
    "\n",
    "  - **분류(Classification)**: 사전 정의된 클래스 중 하나를 예측 (예: 이메일 스팸 분류, 질병 진단)\n",
    "\n",
    "- **대표 기법**: 의사결정나무, 랜덤 포레스트, 로지스틱 회귀, 서포트 벡터 머신, k-최근접 이웃, 신경망 등"
   ]
  },
  {
   "cell_type": "markdown",
   "metadata": {},
   "source": [
    "**작동 예시:**\n",
    "- 환자의 증상 데이터를 기반으로 질병 유무 예측\n",
    "  \n",
    "- 고객의 과거 행동 데이터를 기반으로 이탈 여부 분류"
   ]
  },
  {
   "cell_type": "markdown",
   "metadata": {},
   "source": [
    "**사용 사례:**\n",
    "| 분야 | 예시 |\n",
    "|------|------|\n",
    "| 의료 | 질병 진단 (폐렴 vs 정상) |\n",
    "| 금융 | 대출 상환 가능성 예측 |\n",
    "| 마케팅 | 이탈 고객 예측, 클릭률 예측 |"
   ]
  },
  {
   "cell_type": "markdown",
   "metadata": {},
   "source": [
    "**예시 1: Breast Cancer Wisconsin Dataset**\n",
    "\n",
    "| 항목 | 내용 |\n",
    "|------|------|\n",
    "| **문제 유형** | 이진 분류 (Binary Classification) |\n",
    "| **목적** | 유방암 조직 샘플이 악성(Malignant) 또는 양성(Benign)인지 예측 |\n",
    "| **샘플 수** | 569개 |\n",
    "| **특성 수** | 30개 (모두 연속형 변수) |\n",
    "| **특성 예시** | 평균 반지름, 평균 질감, 평균 면적, 평균 주변 길이 등 |\n",
    "| **타겟값** | 0 = 악성, 1 = 양성 |\n",
    "| **사용 예시** | 의료 진단, 분류 모델 성능 비교, 특성 중요도 분석 등 |"
   ]
  },
  {
   "cell_type": "code",
   "execution_count": null,
   "metadata": {},
   "outputs": [],
   "source": [
    "# 라이브러리 임포트\n",
    "import pandas as pd\n",
    "from sklearn.model_selection import train_test_split\n",
    "from sklearn.ensemble import RandomForestClassifier\n",
    "from sklearn.metrics import accuracy_score, classification_report"
   ]
  },
  {
   "cell_type": "code",
   "execution_count": null,
   "metadata": {},
   "outputs": [],
   "source": [
    "# CSV 파일 읽기\n",
    "data = pd.read_csv('breast_cancer_data.csv') \n",
    "X = data.drop(columns=\"target\")\n",
    "y = data[\"target\"]"
   ]
  },
  {
   "cell_type": "code",
   "execution_count": null,
   "metadata": {},
   "outputs": [],
   "source": [
    "# 훈련/테스트 분할\n",
    "X_train, X_test, y_train, y_test = train_test_split(X, y, test_size=0.2, random_state=42)"
   ]
  },
  {
   "cell_type": "code",
   "execution_count": null,
   "metadata": {},
   "outputs": [],
   "source": [
    "# 분류 모델 훈련\n",
    "model = RandomForestClassifier(random_state=42)\n",
    "model.fit(X_train, y_train)"
   ]
  },
  {
   "cell_type": "code",
   "execution_count": null,
   "metadata": {},
   "outputs": [],
   "source": [
    "# 예측 및 평가\n",
    "y_pred = model.predict(X_test)\n",
    "print(\"정확도:\", accuracy_score(y_test, y_pred))"
   ]
  },
  {
   "cell_type": "markdown",
   "metadata": {},
   "source": [
    "**예시 2: Diabetes Dataset**\n",
    "\n",
    "| 항목 | 내용 |\n",
    "|------|------|\n",
    "| **문제 유형** | 회귀 (Regression) |\n",
    "| **목적** | 당뇨병 환자의 질병 진행 정도를 수치로 예측 |\n",
    "| **샘플 수** | 442개 |\n",
    "| **특성 수** | 10개 (표준화된 연속형 변수) |\n",
    "| **특성 예시** | 나이, BMI, 혈압, 혈청 수치 등 |\n",
    "| **타겟값** | 0 ~ 300 사이의 연속값 (질병 진행 정도) |\n",
    "| **사용 예시** | 회귀 모델 비교, 특성 중요도 해석, 잔차 분석 등 |"
   ]
  },
  {
   "cell_type": "code",
   "execution_count": null,
   "metadata": {},
   "outputs": [],
   "source": [
    "import pandas as pd\n",
    "from sklearn.datasets import load_diabetes\n",
    "\n",
    "# 데이터 로딩\n",
    "diabetes = load_diabetes()\n",
    "\n",
    "# DataFrame으로 변환\n",
    "df = pd.DataFrame(diabetes.data, columns=diabetes.feature_names)\n",
    "df['target'] = diabetes.target  # 질병 진행 수치 추가\n",
    "\n",
    "# 상위 5개 행 확인\n",
    "df.head()\n"
   ]
  },
  {
   "cell_type": "code",
   "execution_count": null,
   "metadata": {},
   "outputs": [],
   "source": [
    "from sklearn.datasets import load_diabetes\n",
    "from sklearn.model_selection import train_test_split\n",
    "from sklearn.linear_model import LinearRegression\n",
    "from sklearn.metrics import mean_squared_error\n",
    "\n",
    "# 데이터 로딩\n",
    "diabetes = load_diabetes()\n",
    "X = diabetes.data\n",
    "y = diabetes.target\n",
    "\n",
    "# 분할\n",
    "X_train, X_test, y_train, y_test = train_test_split(X, y, test_size=0.2, random_state=42)\n",
    "\n",
    "# 회귀 모델 훈련\n",
    "model = LinearRegression()\n",
    "model.fit(X_train, y_train)\n",
    "\n",
    "# 예측\n",
    "y_pred = model.predict(X_test)\n",
    "print(\"MSE:\", mean_squared_error(y_test, y_pred))"
   ]
  },
  {
   "cell_type": "code",
   "execution_count": null,
   "metadata": {},
   "outputs": [],
   "source": [
    "import seaborn as sns\n",
    "import matplotlib.pyplot as plt\n",
    "\n",
    "plt.figure(figsize=(10, 8))\n",
    "sns.heatmap(df.corr(), annot=True, cmap='coolwarm')\n",
    "plt.title(\"Diabetes Dataset Correlation Matrix\")\n",
    "plt.show()"
   ]
  },
  {
   "cell_type": "markdown",
   "metadata": {},
   "source": [
    "### **3.2 비지도학습 (Unsupervised Learning)**"
   ]
  },
  {
   "cell_type": "markdown",
   "metadata": {},
   "source": [
    "<img src=\"https://i.stack.imgur.com/cIDB3.png\" height=\"400\">"
   ]
  },
  {
   "cell_type": "markdown",
   "metadata": {},
   "source": [
    "- **정의**: 데이터에 **정답 레이블이 없는 상태**에서 숨겨진 패턴이나 구조를 찾는 방식\n",
    "  \n",
    "- **목표**: 유사한 데이터끼리 묶거나, 중요한 특징을 추출하는 것\n",
    "\n",
    "  - **클러스터링(Clustering)**: 유사한 샘플을 자동으로 그룹화 (예: 고객 세그먼트)\n",
    "  \n",
    "  - **차원 축소(Dimensionality Reduction)**: 복잡한 고차원 데이터를 저차원으로 요약 (예: 시각화)\n",
    "\n",
    "- **대표 기법**: K-평균, 군집 분석, 주성분 분석, 연관규칙 학습 등"
   ]
  },
  {
   "cell_type": "markdown",
   "metadata": {},
   "source": [
    "**작동 예시:**\n",
    "- 다양한 고객 데이터를 바탕으로 성향이 비슷한 그룹 자동 탐색\n",
    "  \n",
    "- 고차원 이미지 데이터를 2차원 공간으로 축소하여 시각화"
   ]
  },
  {
   "cell_type": "markdown",
   "metadata": {},
   "source": [
    "**사용 사례:**\n",
    "| 분야 | 예시 |\n",
    "|------|------|\n",
    "| 유통 | 고객 세분화 및 타겟 마케팅 |\n",
    "| 보안 | 이상 거래 탐지 (정상 거래와 다른 패턴 감지) |\n",
    "| 추천 | 사용자 성향에 따른 콘텐츠 군집화 |"
   ]
  },
  {
   "cell_type": "markdown",
   "metadata": {},
   "source": [
    "**예시 3: Wine Dataset**\n",
    "\n",
    "| 항목 | 내용 |\n",
    "|------|------|\n",
    "| **문제 유형** | 다중 분류 (Multi-class Classification) |\n",
    "| **목적** | 와인의 화학적 성분을 바탕으로 품종 분류 (3종류 중 하나) |\n",
    "| **샘플 수** | 178개 |\n",
    "| **특성 수** | 13개 (연속형 변수) |\n",
    "| **특성 예시** | 알코올 도수, 말산 함량, 색상 강도, 마그네슘 농도 등 |\n",
    "| **타겟값** | 0, 1, 2 (세 가지 와인 클래스) |\n",
    "| **사용 예시** | 다중 클래스 분류 실습, PCA 시각화, 클러스터링 실험 등 |"
   ]
  },
  {
   "cell_type": "code",
   "execution_count": null,
   "metadata": {},
   "outputs": [],
   "source": [
    "import pandas as pd\n",
    "from sklearn.datasets import load_wine\n",
    "\n",
    "# 데이터 로딩 및 데이터프레임 변환\n",
    "data = load_wine()\n",
    "df = pd.DataFrame(data.data, columns=data.feature_names)\n",
    "\n",
    "# 상위 5개 행 확인\n",
    "df.head()"
   ]
  },
  {
   "cell_type": "code",
   "execution_count": null,
   "metadata": {},
   "outputs": [],
   "source": [
    "from sklearn.cluster import KMeans\n",
    "from sklearn.decomposition import PCA\n",
    "import matplotlib.pyplot as plt\n",
    "\n",
    "# KMeans 클러스터링 (3개의 클러스터 설정)\n",
    "kmeans = KMeans(n_clusters=3, random_state=42)\n",
    "clusters = kmeans.fit_predict(df)\n",
    "\n",
    "# 클러스터 결과를 데이터프레임에 추가\n",
    "df['cluster'] = clusters\n",
    "\n",
    "# 차원 축소 (PCA)로 시각화\n",
    "pca = PCA(n_components=2)\n",
    "reduced = pca.fit_transform(df[data.feature_names])\n",
    "\n",
    "plt.figure(figsize=(8,6))\n",
    "plt.scatter(reduced[:, 0], reduced[:, 1], c=clusters, cmap='viridis', edgecolor='k')\n",
    "plt.xlabel('PCA Component 1')\n",
    "plt.ylabel('PCA Component 2')\n",
    "plt.title('KMeans Clustering (n=3) on Wine Dataset')\n",
    "plt.colorbar(label='Cluster')\n",
    "plt.show()"
   ]
  },
  {
   "cell_type": "markdown",
   "metadata": {},
   "source": [
    "## **4. 성능 평가 방법**"
   ]
  },
  {
   "cell_type": "markdown",
   "metadata": {},
   "source": [
    "* 머신러닝 모델의 성능을 정확하게 평가하기 위해선 문제 유형에 적합한 평가 지표를 사용하는 것이 중요함\n",
    "\n",
    "* 문제 유형은 크게 회귀(예측)와 분류로 구분하며, 각각에 최적화된 평가 방식이 존재함"
   ]
  },
  {
   "cell_type": "markdown",
   "metadata": {},
   "source": [
    "### **4.1 회귀(예측) 문제 성능평가 지표**\n",
    "\n",
    "* 회귀 문제는 연속적인 수치를 예측하는 것을 목표로 하며, 예측값과 실제값 간의 차이를 측정하기 위해 다양한 지표를 사용함"
   ]
  },
  {
   "cell_type": "markdown",
   "metadata": {},
   "source": [
    "#### **① MAE (Mean Absolute Error):** 평균 절대 오차\n",
    "\n",
    "- 예측값과 실제값의 차이를 절대값으로 변환한 후 평균을 구한 값 \n",
    "   \n",
    "- 이상치에 덜 민감하며 해석이 직관적"
   ]
  },
  {
   "cell_type": "markdown",
   "metadata": {},
   "source": [
    "**수식:**\n",
    "\n",
    "$$\n",
    "\\text{MAE} = \\frac{1}{n} \\sum_{i=1}^{n} | y_i - \\hat{y}_i |\n",
    "$$\n"
   ]
  },
  {
   "cell_type": "code",
   "execution_count": null,
   "metadata": {},
   "outputs": [],
   "source": [
    "from sklearn.metrics import mean_absolute_error\n",
    "\n",
    "# 예측값과 실제값 예시\n",
    "y_true = [3, 5, 2.5, 7]\n",
    "y_pred = [2.5, 5, 4, 8]\n",
    "\n",
    "mae = mean_absolute_error(y_true, y_pred)\n",
    "\n",
    "print(\"MAE:\", mae)"
   ]
  },
  {
   "cell_type": "markdown",
   "metadata": {},
   "source": [
    "#### **② MSE (Mean Squared Error):** 평균 제곱 오차\n",
    "\n",
    "- 오차의 제곱을 평균한 값  \n",
    "\n",
    "- 큰 오차에 더 큰 페널티 부여 (이상치에 민감)"
   ]
  },
  {
   "cell_type": "markdown",
   "metadata": {},
   "source": [
    "**수식:**\n",
    "\n",
    "$$\n",
    "\\text{MSE} = \\frac{1}{n} \\sum_{i=1}^{n} (y_i - \\hat{y}_i)^2\n",
    "$$"
   ]
  },
  {
   "cell_type": "code",
   "execution_count": null,
   "metadata": {},
   "outputs": [],
   "source": [
    "from sklearn.metrics import mean_squared_error\n",
    "\n",
    "# 예측값과 실제값 예시\n",
    "y_true = [3, 5, 2.5, 7]\n",
    "y_pred = [2.5, 5, 4, 8]\n",
    "\n",
    "mse = mean_squared_error(y_true, y_pred)\n",
    "\n",
    "print(\"MSE:\", mse)"
   ]
  },
  {
   "cell_type": "markdown",
   "metadata": {},
   "source": [
    "#### **③ RMSE (Root Mean Squared Error):** 평균 제곱근 오차\n",
    "\n",
    "- MSE의 제곱근을 구한 값  \n",
    "\n",
    "- MSE보다 해석이 쉽고, 단위가 원래 데이터와 동일함"
   ]
  },
  {
   "cell_type": "markdown",
   "metadata": {},
   "source": [
    "**수식:**\n",
    "\n",
    "$$\n",
    "\\text{RMSE} = \\sqrt{ \\frac{1}{n} \\sum_{i=1}^{n} (y_i - \\hat{y}_i)^2 }\n",
    "$$"
   ]
  },
  {
   "cell_type": "code",
   "execution_count": null,
   "metadata": {},
   "outputs": [],
   "source": [
    "from sklearn.metrics import mean_squared_error\n",
    "import numpy as np\n",
    "\n",
    "# 예측값과 실제값 예시\n",
    "y_true = [3, 5, 2.5, 7]\n",
    "y_pred = [2.5, 5, 4, 8]\n",
    "\n",
    "mse = mean_squared_error(y_true, y_pred)\n",
    "rmse = np.sqrt(mse)\n",
    "\n",
    "print(\"RMSE:\", rmse)"
   ]
  },
  {
   "cell_type": "markdown",
   "metadata": {},
   "source": [
    "#### **④ R² (R-squared, 결정계수)**\n",
    "\n",
    "- 모델이 실제값의 변동성을 얼마나 잘 설명하는지를 나타냄  \n",
    "  \n",
    "- 1에 가까울수록 좋고, 0 이하는 예측력이 평균보다 나쁨을 의미함"
   ]
  },
  {
   "cell_type": "markdown",
   "metadata": {},
   "source": [
    "**수식:**\n",
    "\n",
    "$$\n",
    "R^2 = 1 - \\frac{ \\sum_{i=1}^{n} (y_i - \\hat{y}_i)^2 }{ \\sum_{i=1}^{n} (y_i - \\bar{y})^2 }\n",
    "$$"
   ]
  },
  {
   "cell_type": "code",
   "execution_count": null,
   "metadata": {},
   "outputs": [],
   "source": [
    "from sklearn.metrics import r2_score\n",
    "\n",
    "# 예측값과 실제값 예시\n",
    "y_true = [3, 5, 2.5, 7]\n",
    "y_pred = [2.5, 5, 4, 8]\n",
    "\n",
    "r2 = r2_score(y_true, y_pred)\n",
    "\n",
    "print(\"R²:\", r2)"
   ]
  },
  {
   "cell_type": "markdown",
   "metadata": {},
   "source": [
    "#### **⑤ 회귀(예측) 문제 성능평가 지표 비교 요약**\n",
    "\n",
    "| 지표 | 민감도 | 직관성 | 단위 | 특징 |\n",
    "|------|--------|--------|------|------|\n",
    "| **MAE**  | 낮음   | 높음   | 원 데이터와 같음 | 이상치 영향 적고 해석 쉬움 |\n",
    "| **MSE**  | 높음   | 낮음   | 제곱 단위         | 이상치에 민감, 미분 가능 |\n",
    "| **RMSE** | 중간   | 높음   | 원 데이터와 같음 | MSE보다 해석 쉬움 |\n",
    "| **R²**   | -      | 매우 높음 | 무단위 (0~1)      | 전체 설명력 평가 가능 |\n"
   ]
  },
  {
   "cell_type": "markdown",
   "metadata": {},
   "source": [
    "### **4.2 분류(Classification) 문제 성능 평가 지표**"
   ]
  },
  {
   "cell_type": "markdown",
   "metadata": {},
   "source": [
    "* 분류 문제는 입력에 대해 미리 정의된 클래스(Label)를 예측하는 문제로, 예측 결과의 정확도, 정밀도, 재현율 등을 다양한 지표로 평가함"
   ]
  },
  {
   "cell_type": "markdown",
   "metadata": {},
   "source": [
    "#### **① 혼동 행렬 (Confusion Matrix)**\n",
    "\n",
    "- 실제 클래스와 예측 클래스 간의 관계를 표 형태로 나타냄  \n",
    "\n",
    "- 분류 성능의 구조적 이해에 유용\n",
    "\n",
    "| 예측↓ / 실제→ | 양성 (Positive) | 음성 (Negative) |\n",
    "|----------------|------------------|------------------|\n",
    "| **양성 예측**     | TP               | FP               |\n",
    "| **음성 예측**     | FN               | TN               |\n",
    "\n",
    "**TP**: True Positive, **TN**: True Negative, **FP**: False Positive, **FN**: False Negative"
   ]
  },
  {
   "cell_type": "code",
   "execution_count": null,
   "metadata": {},
   "outputs": [],
   "source": [
    "from sklearn.metrics import confusion_matrix\n",
    "\n",
    "# 예시: 실제값과 예측값\n",
    "y_true = [0, 1, 1, 0, 1, 0, 1, 1]\n",
    "y_pred = [0, 1, 0, 0, 1, 0, 1, 1]\n",
    "\n",
    "print(\"Confusion Matrix:\\n\", confusion_matrix(y_true, y_pred))"
   ]
  },
  {
   "cell_type": "markdown",
   "metadata": {},
   "source": [
    "#### **② 정확도 (Accuracy)**\n",
    "\n",
    "- 전체 예측 중 정답으로 맞춘 비율  \n",
    "\n",
    "- 클래스가 균형 잡혀 있을 때 유용"
   ]
  },
  {
   "cell_type": "markdown",
   "metadata": {},
   "source": [
    "**수식:**\n",
    "\n",
    "$$\n",
    "\\text{Accuracy} = \\frac{TP + TN}{TP + TN + FP + FN}\n",
    "$$"
   ]
  },
  {
   "cell_type": "code",
   "execution_count": null,
   "metadata": {},
   "outputs": [],
   "source": [
    "from sklearn.metrics import accuracy_score\n",
    "\n",
    "# 예시: 실제값과 예측값\n",
    "y_true = [0, 1, 1, 0, 1, 0, 1, 1]\n",
    "y_pred = [0, 1, 0, 0, 1, 0, 1, 1]\n",
    "\n",
    "print(\"Accuracy:\", accuracy_score(y_true, y_pred))"
   ]
  },
  {
   "cell_type": "markdown",
   "metadata": {},
   "source": [
    "#### **③ 정밀도 (Precision)**\n",
    "\n",
    "- 양성이라고 예측한 것들 중 실제로 양성인 비율 \n",
    "  \n",
    "- False Positive를 줄이는 것이 중요한 상황에서 유용"
   ]
  },
  {
   "cell_type": "markdown",
   "metadata": {},
   "source": [
    "**수식:**\n",
    "\n",
    "$$\n",
    "\\text{Precision} = \\frac{TP}{TP + FP}\n",
    "$$"
   ]
  },
  {
   "cell_type": "code",
   "execution_count": null,
   "metadata": {},
   "outputs": [],
   "source": [
    "from sklearn.metrics import precision_score\n",
    "\n",
    "# 예시: 실제값과 예측값\n",
    "y_true = [0, 1, 1, 0, 1, 0, 1, 1]\n",
    "y_pred = [0, 1, 0, 0, 1, 0, 1, 1]\n",
    "\n",
    "print(\"Precision:\", precision_score(y_true, y_pred))"
   ]
  },
  {
   "cell_type": "markdown",
   "metadata": {},
   "source": [
    "#### **④ 재현율 (Recall, Sensitivity)**\n",
    "\n",
    "- 실제 양성 중에서 모델이 맞춘 비율 \n",
    "\n",
    "- False Negative를 줄이는 것이 중요한 상황에서 유용"
   ]
  },
  {
   "cell_type": "markdown",
   "metadata": {},
   "source": [
    "**수식:**\n",
    "\n",
    "$$\n",
    "\\text{Recall} = \\frac{TP}{TP + FN}\n",
    "$$"
   ]
  },
  {
   "cell_type": "code",
   "execution_count": null,
   "metadata": {},
   "outputs": [],
   "source": [
    "from sklearn.metrics import recall_score\n",
    "\n",
    "# 예시: 실제값과 예측값\n",
    "y_true = [0, 1, 1, 0, 1, 0, 1, 1]\n",
    "y_pred = [0, 1, 0, 0, 1, 0, 1, 1]\n",
    "\n",
    "print(\"Recall:\", recall_score(y_true, y_pred))"
   ]
  },
  {
   "cell_type": "markdown",
   "metadata": {},
   "source": [
    "#### **⑤ F1-Score**\n",
    "\n",
    "- 정밀도와 재현율의 조화 평균  \n",
    "  \n",
    "- 불균형 데이터셋에서 균형 잡힌 평가를 제공"
   ]
  },
  {
   "cell_type": "markdown",
   "metadata": {},
   "source": [
    "**수식:**\n",
    "\n",
    "$$\n",
    "\\text{F1} = 2 \\cdot \\frac{\\text{Precision} \\cdot \\text{Recall}}{\\text{Precision} + \\text{Recall}}\n",
    "$$"
   ]
  },
  {
   "cell_type": "code",
   "execution_count": null,
   "metadata": {},
   "outputs": [],
   "source": [
    "from sklearn.metrics import f1_score\n",
    "\n",
    "# 예시: 실제값과 예측값\n",
    "y_true = [0, 1, 1, 0, 1, 0, 1, 1]\n",
    "y_pred = [0, 1, 0, 0, 1, 0, 1, 1]\n",
    "\n",
    "print(\"F1 Score:\", f1_score(y_true, y_pred))"
   ]
  },
  {
   "cell_type": "markdown",
   "metadata": {},
   "source": [
    "#### **⑥ 분류(Classification) 문제 성능평가 지표 비교 요약**\n",
    "\n",
    "| 지표 | 설명 | 유용한 상황 | 민감한 오류 유형 |\n",
    "|------|------|--------------|------------------|\n",
    "| **Accuracy** | 전체 정답 비율 | 클래스 비율이 균형일 때 | 불균형일 경우 오해 유발 |\n",
    "| **Precision** | 양성 예측의 정확도 | 잘못된 양성 예측이 문제일 때 | False Positive |\n",
    "| **Recall** | 실제 양성 중 탐지율 | 양성을 놓치면 안 되는 상황일 때 | False Negative |\n",
    "| **F1 Score** | Precision과 Recall의 조화 평균 | Precision과 Recall이 모두 중요할 때 | 전체 밸런스 |\n"
   ]
  }
 ],
 "metadata": {
  "kernelspec": {
   "display_name": "Python 3",
   "language": "python",
   "name": "python3"
  },
  "language_info": {
   "codemirror_mode": {
    "name": "ipython",
    "version": 3
   },
   "file_extension": ".py",
   "mimetype": "text/x-python",
   "name": "python",
   "nbconvert_exporter": "python",
   "pygments_lexer": "ipython3",
   "version": "3.13.1"
  }
 },
 "nbformat": 4,
 "nbformat_minor": 2
}
